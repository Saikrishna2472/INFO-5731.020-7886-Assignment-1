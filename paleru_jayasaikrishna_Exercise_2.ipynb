{
  "cells": [
    {
      "cell_type": "markdown",
      "metadata": {
        "id": "view-in-github",
        "colab_type": "text"
      },
      "source": [
        "<a href=\"https://colab.research.google.com/github/Saikrishna2472/INFO-5731.020-7886-Assignment-1/blob/main/paleru_jayasaikrishna_Exercise_2.ipynb\" target=\"_parent\"><img src=\"https://colab.research.google.com/assets/colab-badge.svg\" alt=\"Open In Colab\"/></a>"
      ]
    },
    {
      "cell_type": "markdown",
      "metadata": {
        "id": "DymRJbxDBCnf"
      },
      "source": [
        "# **INFO5731 In-class Exercise 2**\n",
        "\n",
        "The purpose of this exercise is to understand users' information needs, and then collect data from different sources for analysis by implementing web scraping using Python.\n",
        "\n",
        "**Expectations**:\n",
        "*   Students are expected to complete the exercise during lecture period to meet the active participation criteria of the course.\n",
        "*   Use the provided .*ipynb* document to write your code & respond to the questions. Avoid generating a new file.\n",
        "*   Write complete answers and run all the cells before submission.\n",
        "*   Make sure the submission is \"clean\"; *i.e.*, no unnecessary code cells.\n",
        "*   Once finished, allow shared rights from top right corner (*see Canvas for details*).\n",
        "\n",
        "**Total points**: 40\n",
        "\n",
        "**Deadline**: This in-class exercise is due at the end of the day tomorrow, at 11:59 PM.\n",
        "\n",
        "**Late submissions will have a penalty of 10% of the marks for each day of late submission. , and no requests will be answered. Manage your time accordingly.**\n"
      ]
    },
    {
      "cell_type": "markdown",
      "source": [
        "## Question 1 (10 Points)\n",
        "Describe an interesting research question (or practical question or something innovative) you have in mind, what kind of data should be collected to answer the question(s)? Specify the amount of data needed for analysis. Provide detailed steps for collecting and saving the data."
      ],
      "metadata": {
        "id": "FBKvD6O_TY6e"
      }
    },
    {
      "cell_type": "code",
      "source": [
        "# write your answer here\n",
        "# Research Question\n",
        "# How do different types of text to speech synthesis techniques affect user comprehension and retention of spoken information?\n",
        "\n",
        "# Data Collection Plan\n",
        "# 1. Define the Types of TTS Synthesis Techniques\n",
        "# Concatenative TTS: Uses pre-recorded speech segments.\n",
        "# Formant Synthesis: Uses mathematical models to produce speech.\n",
        "# Neural TTS: Uses deep learning models for more natural-sounding speech.\n",
        "# 2. Identify the Data to Be Collected\n",
        "# User Comprehension Scores: Measure how well users understand and recall the spoken content.\n",
        "# User Retention Scores: Measure how much information users remember over time.\n",
        "# User Feedback: Collect qualitative data on user preferences.\n",
        "# 3. Determine the Amount of Data Needed\n",
        "# Sample Size: To achieve statistically significant results, aim for at least 30 participants per TTS type.\n",
        "# Text Length: Use consistent text length for all TTS types.\n",
        "# Test Duration: Each user should engage with the text for a similar amount of time (e.g., 2-3 minutes).\n",
        "# 4. Detailed Steps for Data Collection\n",
        "\n",
        "# Prepare the TTS Samples\n",
        "# Select Texts: Choose or create texts that are neutral and suitable for your study (e.g., informative articles or passages).\n",
        "# Generate Audio: Use each TTS synthesis technique to generate audio files of the same texts.\n",
        "\n",
        "# Design the Experiment\n",
        "# Recruit Participants: Aim for a diverse group of at least 90 participants (30 per TTS type) to ensure generalizability.\n",
        "# Random Assignment: Randomly assign participants to listen to one of the three TTS types to control for biases.\n",
        "\n",
        "# Conduct User Testing\n",
        "# Comprehension Test: After listening to the audio, participants complete a comprehension quiz related to the text.\n",
        "# Retention Test: Administer the same quiz after a delay to measure retention.\n",
        "# Collect Feedback: Have participants fill out a survey rating their experience with the TTS system, including clarity, naturalness, and ease of understanding.\n",
        "\n",
        "# Data Storage\n",
        "# Data Collection Tools: Use online survey platforms or custom apps for quizzes and feedback forms.\n",
        "# Data Storage: Save quantitative data (comprehension and retention scores) in a secure database or spreadsheet. Store qualitative feedback in a text format or use transcription software for analysis.\n",
        "# Backup: Back up the data regularly to avoid loss and ensure compliance with data protection regulations.\n",
        "\n",
        "# Data Analysis\n",
        "# Quantitative Analysis: Use statistical tests (e.g., ANOVA) to compare comprehension and retention scores across the different TTS types.\n",
        "# Qualitative Analysis: Analyze feedback to identify common themes and user preferences."
      ],
      "metadata": {
        "id": "cikVKDXdTbzE"
      },
      "execution_count": null,
      "outputs": []
    },
    {
      "cell_type": "markdown",
      "source": [
        "## Question 2 (10 Points)\n",
        "Write Python code to collect a dataset of 1000 samples related to the question discussed in Question 1."
      ],
      "metadata": {
        "id": "E9RqrlwdTfvl"
      }
    },
    {
      "cell_type": "code",
      "source": [
        "# write your answer here\n",
        "import os\n",
        "import random\n",
        "import pandas as pd\n",
        "import numpy as np\n",
        "from datetime import datetime\n",
        "\n",
        "# Define TTS types and file paths\n",
        "tts_types = ['concatenative', 'formant', 'neural']\n",
        "texts = [\n",
        "    \"The quick brown fox jumps over the lazy dog.\",\n",
        "    \"To be or not to be, that is the question.\",\n",
        "    \"All human beings are born free and equal in dignity and rights.\"\n",
        "]  # Sample texts for the TTS\n",
        "\n",
        "# Define paths for saving audio files\n",
        "audio_paths = {\n",
        "    tts: f'audio/{tts}' for tts in tts_types\n",
        "}\n",
        "\n",
        "# Ensure the directories exist\n",
        "for path in audio_paths.values():\n",
        "    os.makedirs(path, exist_ok=True)\n",
        "\n",
        "# Function to simulate audio generation (replace with actual TTS generation)\n",
        "def generate_audio(tts_type, text, file_path):\n",
        "    # This function would actually call a TTS API or library\n",
        "    # Here we'll just create dummy files for demonstration\n",
        "    with open(file_path, 'w') as f:\n",
        "        f.write(f\"Generated by {tts_type} TTS: {text}\")\n",
        "\n",
        "# Simulate generating audio files\n",
        "for tts_type in tts_types:\n",
        "    for idx, text in enumerate(texts):\n",
        "        file_path = os.path.join(audio_paths[tts_type], f'text_{idx}.txt')\n",
        "        generate_audio(tts_type, text, file_path)\n",
        "\n",
        "# Create an empty list to collect user data\n",
        "data = []\n",
        "\n",
        "# Function to simulate collecting user data (replace with actual data collection)\n",
        "def collect_user_data(participant_id, tts_type, text_id):\n",
        "    # Simulate user responses\n",
        "    comprehension_score = random.randint(0, 10)\n",
        "    retention_score = random.randint(0, 10)\n",
        "    feedback = \"Sample feedback\"\n",
        "    return comprehension_score, retention_score, feedback\n",
        "\n",
        "# Simulate data collection for 1000 participants\n",
        "for participant_id in range(1, 1001):\n",
        "    tts_type = random.choice(tts_types)\n",
        "    text_id = random.randint(0, len(texts) - 1)\n",
        "    comprehension_score, retention_score, feedback = collect_user_data(participant_id, tts_type, text_id)\n",
        "    data.append({\n",
        "        'participant_id': participant_id,\n",
        "        'tts_type': tts_type,\n",
        "        'text_id': text_id,\n",
        "        'comprehension_score': comprehension_score,\n",
        "        'retention_score': retention_score,\n",
        "        'feedback': feedback\n",
        "    })\n",
        "\n",
        "# Create a DataFrame from the collected data\n",
        "df = pd.DataFrame(data)\n",
        "\n",
        "# Save the dataset to a CSV file\n",
        "timestamp = datetime.now().strftime('%Y%m%d_%H%M%S')\n",
        "csv_filename = f'dataset_{timestamp}.csv'\n",
        "df.to_csv(csv_filename, index=False)\n",
        "\n",
        "print(f\"Dataset saved to {csv_filename}\")\n",
        "print(df)"
      ],
      "metadata": {
        "id": "4XvRknixTh1g",
        "colab": {
          "base_uri": "https://localhost:8080/"
        },
        "outputId": "99978204-dfde-41bc-f818-62b747a25907"
      },
      "execution_count": null,
      "outputs": [
        {
          "output_type": "stream",
          "name": "stdout",
          "text": [
            "Dataset saved to dataset_20240916_012005.csv\n",
            "     participant_id       tts_type  text_id  comprehension_score  \\\n",
            "0                 1        formant        2                    3   \n",
            "1                 2        formant        0                    9   \n",
            "2                 3        formant        2                    2   \n",
            "3                 4        formant        0                    6   \n",
            "4                 5  concatenative        0                    7   \n",
            "..              ...            ...      ...                  ...   \n",
            "995             996         neural        2                   10   \n",
            "996             997  concatenative        2                    5   \n",
            "997             998        formant        0                   10   \n",
            "998             999        formant        2                    8   \n",
            "999            1000  concatenative        0                    2   \n",
            "\n",
            "     retention_score         feedback  \n",
            "0                  3  Sample feedback  \n",
            "1                  3  Sample feedback  \n",
            "2                  2  Sample feedback  \n",
            "3                  2  Sample feedback  \n",
            "4                  8  Sample feedback  \n",
            "..               ...              ...  \n",
            "995                0  Sample feedback  \n",
            "996                2  Sample feedback  \n",
            "997                7  Sample feedback  \n",
            "998                2  Sample feedback  \n",
            "999                7  Sample feedback  \n",
            "\n",
            "[1000 rows x 6 columns]\n"
          ]
        }
      ]
    },
    {
      "cell_type": "markdown",
      "metadata": {
        "id": "03jb4GZsBkBS"
      },
      "source": [
        "## Question 3 (10 Points)\n",
        "Write Python code to collect 1000 articles from Google Scholar (https://scholar.google.com/), Microsoft Academic (https://academic.microsoft.com/home), or CiteSeerX (https://citeseerx.ist.psu.edu/index), or Semantic Scholar (https://www.semanticscholar.org/), or ACM Digital Libraries (https://dl.acm.org/) with the keyword \"XYZ\". The articles should be published in the last 10 years (2014-2024).\n",
        "\n",
        "The following information from the article needs to be collected:\n",
        "\n",
        "(1) Title of the article\n",
        "\n",
        "(2) Venue/journal/conference being published\n",
        "\n",
        "(3) Year\n",
        "\n",
        "(4) Authors\n",
        "\n",
        "(5) Abstract"
      ]
    },
    {
      "cell_type": "code",
      "execution_count": 34,
      "metadata": {
        "id": "YaGLbSHHB8Ej",
        "colab": {
          "base_uri": "https://localhost:8080/"
        },
        "outputId": "061236ec-059a-44eb-c556-4b2dbfd2bb55"
      },
      "outputs": [
        {
          "output_type": "stream",
          "name": "stdout",
          "text": [
            "Request URL: https://api.semanticscholar.org/v1/paper/search?query=XYZ&year=2014-2024&offset=0\n",
            "Response Status Code: 404\n",
            "API request failed.\n",
            "Dataset saved to semantic_scholar_articles_20240916_023248.csv\n",
            "Request URL: https://www.google.com/sorry/index?continue=https://scholar.google.com/scholar%3Fq%3DXYZ&q=EgQiSXKNGNCxnrcGIiyDQY7g9HzNy_C2M8FVqH07knEertvl9oNUgrEEdqw9vfbnlxsMXMU1ocQMuTIBcloBQw\n",
            "Response Status Code: 429\n",
            "No more results or Google Scholar has blocked the request.\n",
            "Dataset saved to google_scholar_articles_20240916_023249.csv\n",
            "Empty DataFrame\n",
            "Columns: [Title, Venue, Year, Authors, Abstract]\n",
            "Index: []\n"
          ]
        }
      ],
      "source": [
        "import requests\n",
        "import pandas as pd\n",
        "from datetime import datetime\n",
        "\n",
        "# Define the search parameters\n",
        "query = \"XYZ\"\n",
        "start_year = 2014\n",
        "end_year = 2024\n",
        "num_articles = 1000\n",
        "api_url = \"https://api.semanticscholar.org/v1/paper/search\"\n",
        "\n",
        "# Prepare the DataFrame to store the data\n",
        "columns = ['Title', 'Venue', 'Year', 'Authors', 'Abstract']\n",
        "df = pd.DataFrame(columns=columns)\n",
        "\n",
        "def get_articles(query, start_year, end_year, num_articles):\n",
        "    articles_collected = 0\n",
        "    skip = 0\n",
        "\n",
        "    while articles_collected < num_articles:\n",
        "        response = requests.get(api_url, params={\n",
        "            'query': query,\n",
        "            'year': f'{start_year}-{end_year}',\n",
        "            'offset': skip\n",
        "        })\n",
        "\n",
        "        # Debugging: Check the response status and content\n",
        "        print(f\"Request URL: {response.url}\")\n",
        "        print(f\"Response Status Code: {response.status_code}\")\n",
        "\n",
        "        if response.status_code != 200:\n",
        "            print(\"API request failed.\")\n",
        "            break\n",
        "\n",
        "        data = response.json()\n",
        "\n",
        "        if 'data' not in data or not data['data']:\n",
        "            print(\"No more data or API limit reached.\")\n",
        "            break\n",
        "\n",
        "        for paper in data['data']:\n",
        "            title = paper.get('title', 'N/A')\n",
        "            venue = paper.get('venue', 'N/A')\n",
        "            year = paper.get('year', 'N/A')\n",
        "            authors = ', '.join([author['name'] for author in paper.get('authors', [])])\n",
        "            abstract = paper.get('abstract', 'N/A')\n",
        "\n",
        "            df.loc[len(df)] = [title, venue, year, authors, abstract]\n",
        "            articles_collected += 1\n",
        "\n",
        "            if articles_collected >= num_articles:\n",
        "                break\n",
        "\n",
        "        skip += 10  # Move to the next page of results\n",
        "\n",
        "    return df\n",
        "\n",
        "# Collect articles\n",
        "df = get_articles(query, start_year, end_year, num_articles)\n",
        "\n",
        "# Save to CSV\n",
        "timestamp = datetime.now().strftime('%Y%m%d_%H%M%S')\n",
        "csv_filename = f'semantic_scholar_articles_{timestamp}.csv'\n",
        "df.to_csv(csv_filename, index=False)\n",
        "\n",
        "print(f\"Dataset saved to {csv_filename}\")\n",
        "\n",
        "\n",
        "from bs4 import BeautifulSoup\n",
        "import requests\n",
        "import pandas as pd\n",
        "from datetime import datetime\n",
        "\n",
        "def fetch_google_scholar_articles(query, num_articles):\n",
        "    search_url = \"https://scholar.google.com/scholar\"\n",
        "    params = {'q': query}\n",
        "\n",
        "    headers = {'User-Agent': 'Mozilla/5.0'}\n",
        "    articles = []\n",
        "    start = 0\n",
        "\n",
        "    while len(articles) < num_articles:\n",
        "        response = requests.get(search_url, headers=headers, params=params)\n",
        "\n",
        "        # Debugging: Check the response status and content\n",
        "        print(f\"Request URL: {response.url}\")\n",
        "        print(f\"Response Status Code: {response.status_code}\")\n",
        "\n",
        "        soup = BeautifulSoup(response.text, 'html.parser')\n",
        "        results = soup.select('.gs_ri')\n",
        "\n",
        "        if not results:\n",
        "            print(\"No more results or Google Scholar has blocked the request.\")\n",
        "            break\n",
        "\n",
        "        for result in results:\n",
        "            title_elem = result.select_one('.gs_rt')\n",
        "            title = title_elem.text if title_elem else 'N/A'\n",
        "\n",
        "            venue_elem = result.select_one('.gs_a')\n",
        "            venue = venue_elem.text.split(' - ')[-1] if venue_elem else 'N/A'\n",
        "            year = venue.split()[-1] if venue_elem else 'N/A'\n",
        "\n",
        "            authors_elem = venue_elem.text.split(' - ')[0] if venue_elem else 'N/A'\n",
        "            authors = authors_elem\n",
        "\n",
        "            abstract_elem = result.select_one('.gs_rs')\n",
        "            abstract = abstract_elem.text if abstract_elem else 'N/A'\n",
        "\n",
        "            articles.append([title, venue, year, authors, abstract])\n",
        "            if len(articles) >= num_articles:\n",
        "                break\n",
        "\n",
        "        start += 10\n",
        "        params['start'] = start\n",
        "\n",
        "    return pd.DataFrame(articles, columns=['Title', 'Venue', 'Year', 'Authors', 'Abstract'])\n",
        "\n",
        "# Fetch articles\n",
        "df = fetch_google_scholar_articles(\"XYZ\", 1000)\n",
        "\n",
        "# Save to CSV\n",
        "timestamp = datetime.now().strftime('%Y%m%d_%H%M%S')\n",
        "csv_filename = f'google_scholar_articles_{timestamp}.csv'\n",
        "df.to_csv(csv_filename, index=False)\n",
        "\n",
        "print(f\"Dataset saved to {csv_filename}\")\n",
        "print(df)"
      ]
    },
    {
      "cell_type": "markdown",
      "metadata": {
        "id": "jJDe71iLB616"
      },
      "source": [
        "## Question 4A (10 Points)\n",
        "Develop Python code to collect data from social media platforms like Reddit, Instagram, Twitter (formerly known as X), Facebook, or any other. Use hashtags, keywords, usernames, or user IDs to gather the data.\n",
        "\n",
        "\n",
        "\n",
        "Ensure that the collected data has more than four columns.\n"
      ]
    },
    {
      "cell_type": "code",
      "execution_count": 33,
      "metadata": {
        "id": "MtKskTzbCLaU",
        "colab": {
          "base_uri": "https://localhost:8080/"
        },
        "outputId": "da59f3e0-0f83-4c39-f3a2-5a0733fe3f0c"
      },
      "outputs": [
        {
          "output_type": "stream",
          "name": "stdout",
          "text": [
            "<!DOCTYPE html>\n",
            "<html lang=\"en\" id=\"facebook\" class=\"no_js\">\n",
            "<head><meta charset=\"utf-8\" /><meta name=\"referrer\" content=\"origin-when-crossorigin\" id=\"meta_referrer\" /><script nonce=\"BHH4vyFZ\">function envFlush(a){function b(b){for(var c in a)b[c]=a[c]}window.requireLazy?window.requireLazy([\"Env\"],b):(window.Env=window.Env||{},b(window.Env))}envFlush({\"useTrustedTypes\":false,\"isTrustedTypesReportOnly\":false,\"ajaxpipe_token\":\"AXg0iS9aSs7sAYlqRmA\",\"stack_trace_limit\":30,\"timesliceBufferSize\":5000,\"show_invariant_decoder\":false,\"compat_iframe_token\":\"AQ71zkhyVEz1lXWuPhc\",\"isCQuick\":false,\"brsid\":\"7415056696462305761\"});</script><script nonce=\"BHH4vyFZ\">(function(a){function b(b){if(!window.openDatabase)return;b.I_AM_INCOGNITO_AND_I_REALLY_NEED_WEBSQL=function(a,b,c,d){return window.openDatabase(a,b,c,d)};window.openDatabase=function(){throw new Error()}}b(a)})(this);</script><style nonce=\"BHH4vyFZ\"></style><script nonce=\"BHH4vyFZ\">__DEV__=0;</script><noscript><meta http-equiv=\"refresh\" content=\"0; URL=/login/?next=https%3A%2F%2Fwww.facebook.com%2FAI%2F&amp;_fb_noscript=1\" /></noscript><link rel=\"manifest\" id=\"MANIFEST_LINK\" href=\"/data/manifest/\" crossorigin=\"use-credentials\" /><title id=\"pageTitle\">Facebook</title><meta name=\"bingbot\" content=\"noarchive\" /><link rel=\"icon\" href=\"https://static.xx.fbcdn.net/rsrc.php/yb/r/hLRJ1GG_y0J.ico\" /><link type=\"text/css\" rel=\"stylesheet\" href=\"https://static.xx.fbcdn.net/rsrc.php/v3/yr/l/0,cross/gSQHYToIHSa.css?_nc_x=Ij3Wp8lg5Kz\" data-bootloader-hash=\"wXaVolg\" crossorigin=\"anonymous\" />\n",
            "<link type=\"text/css\" rel=\"stylesheet\" href=\"https://static.xx.fbcdn.net/rsrc.php/v3/yl/l/0,cross/3M8OQA-ZfIJ.css?_nc_x=Ij3Wp8lg5Kz\" data-bootloader-hash=\"/aT08Jc\" crossorigin=\"anonymous\" />\n",
            "<link type=\"text/css\" rel=\"stylesheet\" href=\"https://static.xx.fbcdn.net/rsrc.php/v3/yb/l/0,cross/7IZVQA0i3ot.css?_nc_x=Ij3Wp8lg5Kz\" data-bootloader-hash=\"LzcjXG9\" crossorigin=\"anonymous\" />\n",
            "<script src=\"https://static.xx.fbcdn.net/rsrc.php/v3/yB/r/UakUw4PgHN\n",
            "Visible Texts (first 10):\n",
            "['html', 'function envFlush(a){function b(b){for(var c in a)b[c]=a[c]}window.requireLazy?window.requireLazy([\"Env\"],b):(window.Env=window.Env||{},b(window.Env))}envFlush({\"useTrustedTypes\":false,\"isTrustedTypesReportOnly\":false,\"ajaxpipe_token\":\"AXg0iS9aSs7sAYlqdyE\",\"stack_trace_limit\":30,\"timesliceBufferSize\":5000,\"show_invariant_decoder\":false,\"compat_iframe_token\":\"AQ71zkhyVEz1lXWuEd0\",\"isCQuick\":false,\"brsid\":\"7415056696125025487\"});', '(function(a){function b(b){if(!window.openDatabase)return;b.I_AM_INCOGNITO_AND_I_REALLY_NEED_WEBSQL=function(a,b,c,d){return window.openDatabase(a,b,c,d)};window.openDatabase=function(){throw new Error()}}b(a)})(this);', '__DEV__=0;', 'Facebook', 'requireLazy([\"HasteSupportData\"],function(m){m.handle({\"clpData\":{\"4883\":{\"r\":1,\"s\":1},\"6476\":{\"r\":1000,\"s\":1},\"1838142\":{\"r\":1,\"s\":1},\"1814852\":{\"r\":1},\"1848815\":{\"r\":10000,\"s\":1}},\"gkxData\":{\"2199\":{\"result\":false,\"hash\":null},\"5936\":{\"result\":false,\"hash\":null},\"6362\":{\"result\":false,\"hash\":null},\"6492\":{\"result\":false,\"hash\":null},\"6558\":{\"result\":false,\"hash\":null},\"7742\":{\"result\":false,\"hash\":null},\"20935\":{\"result\":false,\"hash\":null},\"20936\":{\"result\":false,\"hash\":null},\"20940\":{\"result\":false,\"hash\":null},\"20948\":{\"result\":true,\"hash\":null},\"21043\":{\"result\":false,\"hash\":null},\"25572\":{\"result\":true,\"hash\":null},\"1221\":{\"result\":false,\"hash\":null},\"25571\":{\"result\":false,\"hash\":null}},\"justknobxData\":{\"2552\":{\"r\":false},\"2635\":{\"r\":true},\"2269\":{\"r\":true}}})});requireLazy([\"TimeSliceImpl\",\"ServerJS\"],function(TimeSlice,ServerJS){(new ServerJS()).handle({\"define\":[[\"cr:310\",[\"RunWWW\"],{\"__rc\":[\"RunWWW\",null]},-1],[\"cr:1126\",[\"TimeSliceImpl\"],{\"__rc\":[\"TimeSliceImpl\",null]},-1],[\"cr:3725\",[\"clearTimeoutWWWOrMobile\"],{\"__rc\":[\"clearTimeoutWWWOrMobile\",null]},-1],[\"cr:4344\",[\"setTimeoutWWWOrMobile\"],{\"__rc\":[\"setTimeoutWWWOrMobile\",null]},-1],[\"cr:6640\",[\"PromiseImpl\"],{\"__rc\":[\"PromiseImpl\",null]},-1],[\"cr:8958\",[\"FBJSON\"],{\"__rc\":[\"FBJSON\",null]},-1],[\"cr:1078\",[],{\"__rc\":[null,null]},-1],[\"cr:1080\",[\"unexpectedUseInComet\"],{\"__rc\":[\"unexpectedUseInComet\",null]},-1],[\"cr:2945\",[\"PromiseMonitor\"],{\"__rc\":[\"PromiseMonitor\",null]},-1],[\"cr:6108\",[\"CSS\"],{\"__rc\":[\"CSS\",null]},-1],[\"cr:7385\",[\"clearIntervalWWW\"],{\"__rc\":[\"clearIntervalWWW\",null]},-1],[\"cr:7389\",[\"setIntervalAcrossTransitionsWWW\"],{\"__rc\":[\"setIntervalAcrossTransitionsWWW\",null]},-1],[\"cr:7391\",[\"setTimeoutAcrossTransitionsWWW\"],{\"__rc\":[\"setTimeoutAcrossTransitionsWWW\",null]},-1],[\"cr:8959\",[\"DTSG\"],{\"__rc\":[\"DTSG\",null]},-1],[\"cr:8960\",[\"DTSG_ASYNC\"],{\"__rc\":[\"DTSG_ASYNC\",null]},-1],[\"cr:696703\",[],{\"__rc\":[null,null]},-1],[\"cr:708886\",[\"EventProfilerImpl\"],{\"__rc\":[\"EventProfilerImpl\",null]},-1],[\"cr:135\",[\"RunBlue\"],{\"__rc\":[\"RunBlue\",null]},-1],[\"cr:6669\",[\"DataStore\"],{\"__rc\":[\"DataStore\",null]},-1],[\"ServerNonce\",[],{\"ServerNonce\":\"KmiJA8T76DMeI8N1U-T2ae\"},141],[\"KSConfig\",[],{\"killed\":{\"__set\":[\"POCKET_MONSTERS_CREATE\",\"POCKET_MONSTERS_DELETE\",\"POCKET_MONSTERS_UPDATE_NAME\"]},\"ko\":{\"__set\":[\"acrJTh9WGdp\",\"1oOE64fL4wO\",\"7r6mSP7ofr2\"]}},2580],[\"InitialCookieConsent\",[],{\"deferCookies\":false,\"initialConsent\":[1,2],\"noCookies\":false,\"shouldShowCookieBanner\":false,\"shouldWaitForDeferredDatrCookie\":false,\"optedInIntegrations\":[\"adobe_marketo_rest_api\",\"chili_piper_api\",\"cloudfront_cdn\",\"facebook_sdk\",\"giphy_media\",\"google_ads_pixel_frame_legacy\",\"google_ads_pixel_img_legacy\",\"google_ads_pixel_legacy\",\"google_ads_remarketing_tag\",\"google_ads_services\",\"google_analytics_4_tag\",\"google_analytics_img\",\"google_cached_img\",\"google_double_click_loading\",\"google_double_click_redirecting\",\"google_double_click_uri_connect\",\"google_double_click_uri_frame\",\"google_double_click_uri_img\",\"google_fonts\",\"google_fonts_font\",\"google_maps\",\"google_paid_ads_frame\",\"google_paid_ads_img\",\"google_translate\",\"google_universal_analytics_legacy\",\"google_universal_analytics_legacy_img\",\"google_universal_analytics_legacy_script\",\"jio\",\"linkedin_insight\",\"linkedin_insight_img\",\"mapbox_maps_api\",\"medallia_digital_experience_analytics\",\"microsoft_exchange\",\"nytimes_oembed\",\"reachtheworld_s3\",\"soundcloud_oembed\",\"spotify_oembed\",\"spreaker_oembed\",\"ted_oembed\",\"tenor_api\",\"tenor_images\",\"tenor_media\",\"tiktok_oembed\",\"twitter_analytics_pixel\",\"twitter_analytics_pixel_img\",\"twitter_legacy_embed\",\"vimeo_oembed\",\"youtube_embed\",\"youtube_oembed\",\"advertiser_hosted_pixel\",\"airbus_sat\",\"amazon_media\",\"apps_for_office\",\"arkose_captcha\",\"aspnet_cdn\",\"autodesk_fusion\",\"bing_maps\",\"bing_widget\",\"blings_io_video\",\"boku_wallet\",\"bootstrap\",\"box\",\"cardinal_centinel_api\",\"chromecast_extensions\",\"cloudflare_cdnjs\",\"cloudflare_datatables\",\"cloudflare_relay\",\"conversions_api_gateway\",\"demandbase_api\",\"digitalglobe_maps_api\",\"dlocal\",\"dropbox\",\"esri_sat\",\"gmg_pulse_embed_iframe\",\"google_ads_conversions_tag\",\"google_drive\",\"google_fonts_legacy\",\"google_hosted_libraries\",\"google_oauth_api\",\"google_recaptcha\",\"here_map_ext\",\"hive_streaming_video\",\"isptoolbox\",\"jquery\",\"js_delivr\",\"kbank\",\"mathjax\",\"microsoft_excel\",\"microsoft_office_addin\",\"microsoft_onedrive\",\"microsoft_speech\",\"microsoft_teams\",\"mmi_tiles\",\"open_street_map\",\"paypal_billing_agreement\",\"paypal_oauth_api\",\"payu\",\"plaid\",\"platformized_adyen_checkout\",\"plotly\",\"pydata\",\"recruitics\",\"rstudio\",\"salesforce_lighting\",\"stripe\",\"team_center\",\"tripshot\",\"trustly_direct_debit_ach\",\"twilio_voice\",\"unifier\",\"unsplash_api\",\"unsplash_image_loading\",\"vega\",\"yoti_api\",\"youtube_oembed_api\",\"google_apis\",\"google_apis_scripts\",\"google_img\",\"google_tag\",\"google_uri_frame\",\"google_uri_script\"],\"hasGranularThirdPartyCookieConsent\":true,\"exemptedIntegrations\":[\"advertiser_hosted_pixel\",\"airbus_sat\",\"amazon_media\",\"apps_for_office\",\"arkose_captcha\",\"aspnet_cdn\",\"autodesk_fusion\",\"bing_maps\",\"bing_widget\",\"blings_io_video\",\"boku_wallet\",\"bootstrap\",\"box\",\"cardinal_centinel_api\",\"chromecast_extensions\",\"cloudflare_cdnjs\",\"cloudflare_datatables\",\"cloudflare_relay\",\"conversions_api_gateway\",\"demandbase_api\",\"digitalglobe_maps_api\",\"dlocal\",\"dropbox\",\"esri_sat\",\"gmg_pulse_embed_iframe\",\"google_ads_conversions_tag\",\"google_drive\",\"google_fonts_legacy\",\"google_hosted_libraries\",\"google_oauth_api\",\"google_recaptcha\",\"here_map_ext\",\"hive_streaming_video\",\"isptoolbox\",\"jquery\",\"js_delivr\",\"kbank\",\"mathjax\",\"microsoft_excel\",\"microsoft_office_addin\",\"microsoft_onedrive\",\"microsoft_speech\",\"microsoft_teams\",\"mmi_tiles\",\"open_street_map\",\"paypal_billing_agreement\",\"paypal_oauth_api\",\"payu\",\"plaid\",\"platformized_adyen_checkout\",\"plotly\",\"pydata\",\"recruitics\",\"rstudio\",\"salesforce_lighting\",\"stripe\",\"team_center\",\"tripshot\",\"trustly_direct_debit_ach\",\"twilio_voice\",\"unifier\",\"unsplash_api\",\"unsplash_image_loading\",\"vega\",\"yoti_api\",\"youtube_oembed_api\"]},4328],[\"ServerTimeData\",[],{\"serverTime\":1726452423675,\"timeOfRequestStart\":1726452423656.4,\"timeOfResponseStart\":1726452423656.4},5943],[\"URLFragmentPreludeConfig\",[],{\"hashtagRedirect\":true,\"fragBlacklist\":[\"nonce\",\"access_token\",\"oauth_token\",\"xs\",\"checkpoint_data\",\"code\"]},137],[\"CookiePrivacySandboxConfig\",[],{\"is_affected_by_samesite_lax\":false},7723],[\"CometPersistQueryParams\",[],{\"relative\":{},\"domain\":{}},6231],[\"CookieDomain\",[],{\"domain\":\"facebook.com\"},6421],[\"GetAsyncParamsExtraData\",[],{\"extra_data\":{}},7511],[\"BootloaderConfig\",[],{\"deferBootloads\":false,\"jsRetries\":[200,500],\"jsRetryAbortNum\":2,\"jsRetryAbortTime\":5,\"silentDups\":false,\"timeout\":60000,\"tieredLoadingFromTier\":100,\"hypStep4\":false,\"phdOn\":false,\"btCutoffIndex\":2062,\"fastPathForAlreadyRequired\":true,\"earlyRequireLazy\":false,\"enableTimeoutLoggingForNonComet\":false,\"deferLongTailManifest\":true,\"lazySoT\":false,\"translationRetries\":[200,500],\"translationRetryAbortNum\":3,\"translationRetryAbortTime\":50},329],[\"CSSLoaderConfig\",[],{\"timeout\":5000,\"loadEventSupported\":true},619],[\"CookieCoreConfig\",[],{\"c_user\":{\"t\":31536000,\"s\":\"None\"},\"cppo\":{\"t\":86400,\"s\":\"None\"},\"dpr\":{\"t\":604800,\"s\":\"None\"},\"fbl_st\":{\"t\":31536000,\"s\":\"Strict\"},\"hckd\":{\"s\":\"None\"},\"i_user\":{\"t\":31536000,\"s\":\"None\"},\"locale\":{\"t\":604800,\"s\":\"None\"},\"m_ls\":{\"t\":34560000,\"s\":\"None\"},\"m_pixel_ratio\":{\"t\":604800,\"s\":\"None\"},\"noscript\":{\"s\":\"None\"},\"presence\":{\"t\":2592000,\"s\":\"None\"},\"sfau\":{\"s\":\"None\"},\"usida\":{\"s\":\"None\"},\"vpd\":{\"t\":5184000,\"s\":\"Lax\"},\"wd\":{\"t\":604800,\"s\":\"Lax\"},\"wl_cbv\":{\"t\":7776000,\"s\":\"None\"},\"x-referer\":{\"s\":\"None\"},\"x-src\":{\"t\":1,\"s\":\"None\"}},2104],[\"CurrentUserInitialData\",[],{\"ACCOUNT_ID\":\"0\",\"USER_ID\":\"0\",\"NAME\":\"\",\"SHORT_NAME\":null,\"IS_BUSINESS_PERSON_ACCOUNT\":false,\"HAS_SECONDARY_BUSINESS_PERSON\":false,\"IS_FACEBOOK_WORK_ACCOUNT\":false,\"IS_INSTAGRAM_BUSINESS_PERSON\":false,\"IS_MESSENGER_ONLY_USER\":false,\"IS_DEACTIVATED_ALLOWED_ON_MESSENGER\":false,\"IS_MESSENGER_CALL_GUEST_USER\":false,\"IS_WORK_MESSENGER_CALL_GUEST_USER\":false,\"IS_WORKROOMS_USER\":false,\"APP_ID\":\"256281040558\",\"IS_BUSINESS_DOMAIN\":false},270],[\"LSD\",[],{\"token\":\"AVonQL0jV18\"},323],[\"SprinkleConfig\",[],{\"param_name\":\"jazoest\",\"version\":2,\"should_randomize\":false},2111],[\"UserAgentData\",[],{\"browserArchitecture\":\"64\",\"browserFullVersion\":\"91.0.4472.124\",\"browserMinorVersion\":0,\"browserName\":\"Chrome\",\"browserVersion\":91,\"deviceName\":\"Unknown\",\"engineName\":\"Blink\",\"engineVersion\":\"91.0.4472.124\",\"platformArchitecture\":\"64\",\"platformName\":\"Windows\",\"platformVersion\":\"10\",\"platformFullVersion\":\"10\"},527],[\"PromiseUsePolyfillSetImmediateGK\",[],{\"www_always_use_polyfill_setimmediate\":false},2190],[\"JSErrorLoggingConfig\",[],{\"appId\":256281040558,\"extra\":[],\"reportInterval\":50,\"sampleWeight\":null,\"sampleWeightKey\":\"__jssesw\",\"projectBlocklist\":[]},2776],[\"DataStoreConfig\",[],{\"expandoKey\":\"__FB_STORE\",\"useExpando\":true},2915],[\"CookieCoreLoggingConfig\",[],{\"maximumIgnorableStallMs\":16.67,\"sampleRate\":9.7e-5,\"sampleRateClassic\":1.0e-10,\"sampleRateFastStale\":1.0e-8},3401],[\"ImmediateImplementationExperiments\",[],{\"prefer_message_channel\":true},3419],[\"UriNeedRawQuerySVConfig\",[],{\"uris\":[\"dms.netmng.com\",\"doubleclick.net\",\"r.msn.com\",\"watchit.sky.com\",\"graphite.instagram.com\",\"www.kfc.co.th\",\"learn.pantheon.io\",\"www.landmarkshops.in\",\"www.ncl.com\",\"s0.wp.com\",\"www.tatacliq.com\",\"bs.serving-sys.com\",\"kohls.com\",\"lazada.co.th\",\"xg4ken.com\",\"technopark.ru\",\"officedepot.com.mx\",\"bestbuy.com.mx\",\"booking.com\",\"nibio.no\",\"myworkdayjobs.com\",\"united-united.com\",\"gcc.gnu.org\"]},3871],[\"BootloaderEndpointConfig\",[],{\"debugNoBatching\":false,\"maxBatchSize\":-1,\"endpointURI\":\"https:\\\\/\\\\/www.facebook.com\\\\/ajax\\\\/bootloader-endpoint\\\\/\"},5094],[\"BigPipeExperiments\",[],{\"link_images_to_pagelets\":false,\"enable_bigpipe_plugins\":false},907],[\"cr:7730\",[\"getFbtResult\"],{\"__rc\":[\"getFbtResult\",null]},-1],[\"cr:8906\",[\"goURIWWW\"],{\"__rc\":[\"goURIWWW\",null]},-1],[\"cr:925100\",[\"RunBlue\"],{\"__rc\":[\"RunBlue\",null]},-1],[\"cr:7386\",[\"clearTimeoutWWW\"],{\"__rc\":[\"clearTimeoutWWW\",null]},-1],[\"cr:7390\",[\"setTimeoutWWW\"],{\"__rc\":[\"setTimeoutWWW\",null]},-1],[\"cr:1003267\",[\"clearIntervalBlue\"],{\"__rc\":[\"clearIntervalBlue\",null]},-1],[\"cr:896462\",[\"setIntervalAcrossTransitionsBlue\"],{\"__rc\":[\"setIntervalAcrossTransitionsBlue\",null]},-1],[\"cr:986633\",[\"setTimeoutAcrossTransitionsBlue\"],{\"__rc\":[\"setTimeoutAcrossTransitionsBlue\",null]},-1],[\"cr:6799\",[\"EventProfilerAdsSessionProvider\"],{\"__rc\":[\"EventProfilerAdsSessionProvider\",null]},-1],[\"IntlVariationHoldout\",[],{\"disable_variation\":false},6533],[\"IntlNumberTypeProps\",[\"IntlCLDRNumberType05\"],{\"module\":{\"__m\":\"IntlCLDRNumberType05\"}},7027],[\"AsyncRequestConfig\",[],{\"retryOnNetworkError\":\"1\",\"useFetchStreamAjaxPipeTransport\":true},328],[\"DTSGInitialData\",[],{},258],[\"IntlPhonologicalRules\",[],{\"meta\":{\"\\\\/_B\\\\/\":\"([.,!?\\\\\\\\s]|^)\",\"\\\\/_E\\\\/\":\"([.,!?\\\\\\\\s]|$)\"},\"patterns\":{\"\\\\/\\\\u0001(.*)(\\'|&#039;)s\\\\u0001(?:\\'|&#039;)s(.*)\\\\/\":\"\\\\u0001$1$2s\\\\u0001$3\",\"\\\\/_\\\\u0001([^\\\\u0001]*)\\\\u0001\\\\/\":\"javascript\"}},1496],[\"IntlViewerContext\",[],{\"GENDER\":3,\"regionalLocale\":null},772],[\"NumberFormatConfig\",[],{\"decimalSeparator\":\".\",\"numberDelimiter\":\",\",\"minDigitsForThousandsSeparator\":4,\"standardDecimalPatternInfo\":{\"primaryGroupSize\":3,\"secondaryGroupSize\":3},\"numberingSystemData\":null},54],[\"SessionNameConfig\",[],{\"seed\":\"0XLw\"},757],[\"ZeroCategoryHeader\",[],{},1127],[\"ZeroRewriteRules\",[],{\"rewrite_rules\":{},\"whitelist\":{\"\\\\/hr\\\\/r\":1,\"\\\\/hr\\\\/p\":1,\"\\\\/zero\\\\/unsupported_browser\\\\/\":1,\"\\\\/zero\\\\/policy\\\\/optin\":1,\"\\\\/zero\\\\/optin\\\\/write\\\\/\":1,\"\\\\/zero\\\\/optin\\\\/legal\\\\/\":1,\"\\\\/zero\\\\/optin\\\\/free\\\\/\":1,\"\\\\/about\\\\/privacy\\\\/\":1,\"\\\\/about\\\\/privacy\\\\/update\\\\/\":1,\"\\\\/privacy\\\\/explanation\\\\/\":1,\"\\\\/zero\\\\/toggle\\\\/welcome\\\\/\":1,\"\\\\/zero\\\\/toggle\\\\/nux\\\\/\":1,\"\\\\/zero\\\\/toggle\\\\/settings\\\\/\":1,\"\\\\/fup\\\\/interstitial\\\\/\":1,\"\\\\/work\\\\/landing\":1,\"\\\\/work\\\\/login\\\\/\":1,\"\\\\/work\\\\/email\\\\/\":1,\"\\\\/ai.php\":1,\"\\\\/js_dialog_resources\\\\/dialog_descriptions_android.json\":0,\"\\\\/connect\\\\/jsdialog\\\\/MPlatformAppInvitesJSDialog\\\\/\":0,\"\\\\/connect\\\\/jsdialog\\\\/MPlatformOAuthShimJSDialog\\\\/\":0,\"\\\\/connect\\\\/jsdialog\\\\/MPlatformLikeJSDialog\\\\/\":0,\"\\\\/qp\\\\/interstitial\\\\/\":1,\"\\\\/qp\\\\/action\\\\/redirect\\\\/\":1,\"\\\\/qp\\\\/action\\\\/close\\\\/\":1,\"\\\\/zero\\\\/support\\\\/ineligible\\\\/\":1,\"\\\\/zero_balance_redirect\\\\/\":1,\"\\\\/zero_balance_redirect\":1,\"\\\\/zero_balance_redirect\\\\/l\\\\/\":1,\"\\\\/l.php\":1,\"\\\\/lsr.php\":1,\"\\\\/ajax\\\\/dtsg\\\\/\":1,\"\\\\/checkpoint\\\\/block\\\\/\":1,\"\\\\/exitdsite\":1,\"\\\\/zero\\\\/balance\\\\/pixel\\\\/\":1,\"\\\\/zero\\\\/balance\\\\/\":1,\"\\\\/zero\\\\/balance\\\\/carrier_landing\\\\/\":1,\"\\\\/zero\\\\/flex\\\\/logging\\\\/\":1,\"\\\\/tr\":1,\"\\\\/tr\\\\/\":1,\"\\\\/sem_campaigns\\\\/sem_pixel_test\\\\/\":1,\"\\\\/bookmarks\\\\/flyout\\\\/body\\\\/\":1,\"\\\\/zero\\\\/subno\\\\/\":1,\"\\\\/confirmemail.php\":1,\"\\\\/policies\\\\/\":1,\"\\\\/mobile\\\\/internetdotorg\\\\/classifier\\\\/\":1,\"\\\\/zero\\\\/dogfooding\":1,\"\\\\/xti.php\":1,\"\\\\/zero\\\\/fblite\\\\/config\\\\/\":1,\"\\\\/hr\\\\/zsh\\\\/wc\\\\/\":1,\"\\\\/ajax\\\\/bootloader-endpoint\\\\/\":1,\"\\\\/mobile\\\\/zero\\\\/carrier_page\\\\/\":1,\"\\\\/mobile\\\\/zero\\\\/carrier_page\\\\/education_page\\\\/\":1,\"\\\\/mobile\\\\/zero\\\\/carrier_page\\\\/feature_switch\\\\/\":1,\"\\\\/mobile\\\\/zero\\\\/carrier_page\\\\/settings_page\\\\/\":1,\"\\\\/aloha_check_build\":1,\"\\\\/upsell\\\\/zbd\\\\/softnudge\\\\/\":1,\"\\\\/mobile\\\\/zero\\\\/af_transition\\\\/\":1,\"\\\\/mobile\\\\/zero\\\\/af_transition\\\\/action\\\\/\":1,\"\\\\/mobile\\\\/zero\\\\/freemium\\\\/\":1,\"\\\\/mobile\\\\/zero\\\\/freemium\\\\/redirect\\\\/\":1,\"\\\\/mobile\\\\/zero\\\\/freemium\\\\/zero_fup\\\\/\":1,\"\\\\/privacy\\\\/policy\\\\/\":1,\"\\\\/privacy\\\\/center\\\\/\":1,\"\\\\/data\\\\/manifest\\\\/\":1,\"\\\\/4oh4.php\":1,\"\\\\/autologin.php\":1,\"\\\\/birthday_help.php\":1,\"\\\\/checkpoint\\\\/\":1,\"\\\\/contact-importer\\\\/\":1,\"\\\\/cr.php\":1,\"\\\\/legal\\\\/terms\\\\/\":1,\"\\\\/login.php\":1,\"\\\\/login\\\\/\":1,\"\\\\/mobile\\\\/account\\\\/\":1,\"\\\\/n\\\\/\":1,\"\\\\/remote_test_device\\\\/\":1,\"\\\\/upsell\\\\/buy\\\\/\":1,\"\\\\/upsell\\\\/buyconfirm\\\\/\":1,\"\\\\/upsell\\\\/buyresult\\\\/\":1,\"\\\\/upsell\\\\/promos\\\\/\":1,\"\\\\/upsell\\\\/continue\\\\/\":1,\"\\\\/upsell\\\\/h\\\\/promos\\\\/\":1,\"\\\\/upsell\\\\/loan\\\\/learnmore\\\\/\":1,\"\\\\/upsell\\\\/purchase\\\\/\":1,\"\\\\/upsell\\\\/promos\\\\/upgrade\\\\/\":1,\"\\\\/upsell\\\\/buy_redirect\\\\/\":1,\"\\\\/upsell\\\\/loan\\\\/buyconfirm\\\\/\":1,\"\\\\/upsell\\\\/loan\\\\/buy\\\\/\":1,\"\\\\/upsell\\\\/sms\\\\/\":1,\"\\\\/wap\\\\/a\\\\/channel\\\\/reconnect.php\":1,\"\\\\/wap\\\\/a\\\\/nux\\\\/wizard\\\\/nav.php\":1,\"\\\\/wap\\\\/appreg.php\":1,\"\\\\/wap\\\\/birthday_help.php\":1,\"\\\\/wap\\\\/c.php\":1,\"\\\\/wap\\\\/confirmemail.php\":1,\"\\\\/wap\\\\/cr.php\":1,\"\\\\/wap\\\\/login.php\":1,\"\\\\/wap\\\\/r.php\":1,\"\\\\/zero\\\\/datapolicy\":1,\"\\\\/a\\\\/timezone.php\":1,\"\\\\/a\\\\/bz\":1,\"\\\\/bz\\\\/reliability\":1,\"\\\\/r.php\":1,\"\\\\/mr\\\\/\":1,\"\\\\/reg\\\\/\":1,\"\\\\/registration\\\\/log\\\\/\":1,\"\\\\/terms\\\\/\":1,\"\\\\/f123\\\\/\":1,\"\\\\/expert\\\\/\":1,\"\\\\/experts\\\\/\":1,\"\\\\/terms\\\\/index.php\":1,\"\\\\/terms.php\":1,\"\\\\/srr\\\\/\":1,\"\\\\/msite\\\\/redirect\\\\/\":1,\"\\\\/fbs\\\\/pixel\\\\/\":1,\"\\\\/contactpoint\\\\/preconfirmation\\\\/\":1,\"\\\\/contactpoint\\\\/cliff\\\\/\":1,\"\\\\/contactpoint\\\\/confirm\\\\/submit\\\\/\":1,\"\\\\/contactpoint\\\\/confirmed\\\\/\":1,\"\\\\/contactpoint\\\\/login\\\\/\":1,\"\\\\/preconfirmation\\\\/contactpoint_change\\\\/\":1,\"\\\\/help\\\\/contact\\\\/\":1,\"\\\\/survey\\\\/\":1,\"\\\\/upsell\\\\/loyaltytopup\\\\/accept\\\\/\":1,\"\\\\/settings\\\\/\":1,\"\\\\/lite\\\\/\":1,\"\\\\/zero_status_update\\\\/\":1,\"\\\\/operator_store\\\\/\":1,\"\\\\/upsell\\\\/\":1,\"\\\\/wifiauth\\\\/login\\\\/\":1}},1478],[\"DTSGInitData\",[],{\"token\":\"\",\"async_get_token\":\"\"},3515],[\"WebDriverConfig\",[],{\"isTestRunning\":false,\"isJestE2ETestRun\":false,\"isXRequestConfigEnabled\":false,\"auxiliaryServiceInfo\":{},\"testPath\":null,\"originHost\":null},5332],[\"EventConfig\",[],{\"sampling\":{\"bandwidth\":0,\"play\":0,\"playing\":0,\"progress\":0,\"pause\":0,\"ended\":0,\"seeked\":0,\"seeking\":0,\"waiting\":0,\"loadedmetadata\":0,\"canplay\":0,\"selectionchange\":0,\"change\":0,\"timeupdate\":0,\"adaptation\":0,\"focus\":0,\"blur\":0,\"load\":0,\"error\":0,\"message\":0,\"abort\":0,\"storage\":0,\"scroll\":200000,\"mousemove\":20000,\"mouseover\":10000,\"mouseout\":10000,\"mousewheel\":1,\"MSPointerMove\":10000,\"keydown\":0.1,\"click\":0.02,\"mouseup\":0.02,\"__100ms\":0.001,\"__default\":5000,\"__min\":100,\"__interactionDefault\":200,\"__eventDefault\":100000},\"page_sampling_boost\":1,\"interaction_regexes\":{},\"interaction_boost\":{},\"event_types\":{},\"manual_instrumentation\":false,\"profile_eager_execution\":false,\"disable_heuristic\":true,\"disable_event_profiler\":false},1726],[\"cr:8828\",[],{\"__rc\":[null,null]},-1],[\"cr:1094907\",[],{\"__rc\":[null,null]},-1],[\"cr:1183579\",[\"InlineFbtResultImpl\"],{\"__rc\":[\"InlineFbtResultImpl\",null]},-1],[\"cr:806696\",[\"clearTimeoutBlue\"],{\"__rc\":[\"clearTimeoutBlue\",null]},-1],[\"cr:807042\",[\"setTimeoutBlue\"],{\"__rc\":[\"setTimeoutBlue\",null]},-1],[\"FbtResultGK\",[],{\"shouldReturnFbtResult\":true,\"inlineMode\":\"NO_INLINE\"},876],[\"AdsInterfacesSessionConfig\",[],{},2393],[\"FbtQTOverrides\",[],{\"overrides\":{\"1_000b6572c6a3f7fe9312e5879dd2e75b\":\"You\\'ll need to log in with Workplace to continue this video chat.\",\"1_023ac1e3f0ce2980598584f26a784b9f\":\"Ignore messages\",\"1_028dc427119e6bfbfcd5eb2dd83b2a9e\":\"View Page status\",\"1_075684469438a60ae5f6813949e94a0d\":\"Get quote\",\"1_0778dc4cf3fe167942881fecddd5dee2\":\"Learn more\",\"1_08a3224cc0fd966f2bb0e780c51e6a0b\":\"New poll\",\"1_0a090165a1d0654210eb444114aabd7c\":\"Switch between accounts\",\"1_0b9af3d5b6a4de6cb2b17ad5a0beec3a\":\"Learn more\",\"1_0d0b40d72cd2adc492a402e98e18896f\":\"Chat notifications\",\"1_0ea6e742163878d88375800514788740\":\"Invite link\",\"1_0ea7de82b669cced737b30875f15309a\":\"Local event from Facebook\",\"1_0f008d2991187964d472eceaf9ba28d6\":\"Featured sticker packs\",\"1_0f48efb82ce58bf43dec6a98dcadc874\":\"Add your new number\",\"1_0f9fceeb2e66627d9e346dd24e0d6916\":\"Remove from channel\",\"1_0fee0283487e0259495a07f9e315ad8f\":\"Your home in Messenger\",\"1_1068c1352d8cbb8919cc2b4a0dbcd9f3\":\"Hide contact\",\"1_10811a6ece4ca15b10dc22f89805a347\":\"Customize your chat with {short-name}.\",\"1_117fb24f8ee951759e9435520cc71e70\":\"More options\",\"1_1248a8548f1b43fd3d9fc77baf835a04\":\"Contacts only\",\"1_1593f9d2cc4c63f196a61a70eff664cf\":\"Send to group\",\"1_159aa796a642d08a85379ec9693d25c7\":\"Opt in\",\"1_1736f6743cf12be3ffc46cd556357e96\":\"Book now\",\"1_18b8ec487f180574ad865f168eeafa70\":\"Content not found\",\"1_1905e45a72593e291dda8c774aa4caf4\":\"Invite people\",\"1_1ac128eda299351dc18567e7a6f31be6\":\"Hide video\",\"1_1b38f249fefb0fd5ef7912a1fe615d10\":\"Pinned location\",\"1_1b59f7e84dba4c8754cf60d1bafa6ae5\":\"Shared stories\",\"1_1cf36465e606a10ef2a48c5dee532085\":\"Great job, {user_name}!\",\"1_1d36c6e7b1a07971c84821452f9dc407\":\"Ignore conversation\",\"1_1d89beed629123cabeeea834c345a7fc\":\"Mute notifications\",\"1_1f209b12cabbe35509c514220825d53b\":\"New story\",\"1_209b3fb19e7c487ffe3bd85b2adac6db\":\"Try again\",\"1_20cec0b4386ad8555f8b619ad2c2fb81\":\"Single pop\",\"1_215afaeceab4d29970af2c11221f79e3\":\"Web visibility\",\"1_226d5171b148e60fe004a4f3cc53a81b\":\"Delete group chat?\",\"1_23f5a1596d301feaeb32b47f24dc73a0\":\"Join call\",\"1_243d55bab0d83c72b2113bfd5ca2e194\":\"Membership questions\",\"1_25589d7cb1db33911bf18252dbb5155c\":\"Message history in Inbox\",\"1_2745ba03fa7b9c0f59c0797fb44da204\":\"Showing in chats\",\"1_27f38b56fa58a394e2d89fbf7288747b\":\"New sender\",\"1_28ea9e6140b5437477564e5b21353246\":\"Profile picture\",\"1_2953f6f20942da4f0593b905a4db3d90\":\"See details\",\"1_2af4c8cb4d30a1aaa744a75187d6b06d\":\"{number} invited by you\",\"1_2b2898b200686215c54616553499fddf\":\"Unread messages\",\"1_2b406f4727fff3df7dd970cac1c41536\":\"Messenger preview\",\"1_2c2ff60e8d5edccadadf61f739b6d87b\":\"Report story\",\"1_3002f3a3232973642407c2e3830c10f6\":\"Stop sharing location\",\"1_30ed561a77bfcadb3b66d5960c2a9e05\":\"Photo reminders\",\"1_313c1c8a5025b45c60712685f0d89c6c\":\"App visibility\",\"1_33886f5d4a6ede055ec28ddf69251cc5\":\"Life events\",\"1_3543833b8b31fbb1561d46f2c0b266a8\":\"Added with theme\",\"1_366d38e456780d92844ab4b39ac1de78\":\"Not interested\",\"1_37900af383a573c0337521bca05d7955\":\"Respond to event\",\"1_37ebfbfd36c55a8366f7ba9d528cf7b3\":\"Chats you can create\",\"1_39339bb4b3f3002e589625a820bf5c7a\":\"Learn more\",\"1_3a9a1e192465754ec4427995fe1cffb4\":\"Buy and sell groups\",\"1_3aa3f2c2971602310d482c632c086db8\":\"Chat hosts\",\"1_3bc7a4f74be5e3dbfdc9b758fa779fff\":\"Chat plugin\",\"1_3cee79cd9e136ffc84ccfc7082bef6c2\":\"{number_of_happening_now_events} happening now, {number_of_upcoming_events} upcoming\",\"1_3e8fba90f69e371d19c5b4f79e3f0be7\":\"Buy and sell groups\",\"1_3f4c233aac1d71d17bee559b932144d3\":\"See conversation\",\"1_41446ff5d2de26a67626d2ba309c969b\":\"This video can\\'t be sent\",\"1_4151657ef8e7bc03ab8169e5dcb0d675\":\"Cancel request\",\"1_41eadd6427237386cc04b60a8ab94a8b\":\"This chat will show as unread\",\"1_46793f5529ff4a62f831cf9218082b7f\":\"Unread requests\",\"1_46879d905028aaee9f7297d27c075b50\":\"See messages\",\"1_46b9f298de3c041a464dbe8ff7f3d978\":\"Language settings\",\"1_46c8d595559f4232c4a7fe113aac3093\":\"Get started\",\"1_475781e5e945e3d217b563d6ccd51ecd\":\"Create prompt\",\"1_489630491bec0288ae7c0bef88ff5ad9\":\"Show music picker\",\"1_4ad1c9e7de7af0b7d1853ed6863469db\":\"Snooze for {number_of_hours} hours\",\"1_4b56df30045efb8a5d21ec865d43ec1c\":\"Approved by you\",\"1_4b9736a9d6cbeb6249b0704870ec383e\":\"No devices yet\",\"1_4cf8fe13a0639e31c0d73b5aec3b8019\":\"Something went wrong\",\"1_4d5c8cbda9ac3dfc82b483ecf952a53c\":\"Open Facebook app\",\"1_4e75a018ef44c107750832d736fcce90\":\"Send details\",\"1_4ee7496edd4dafc3c2b2a6225f1a6f69\":\"Nearby places\",\"1_5009586cb3b7953608b1ccc56cb3e630\":\"See conversation?\",\"1_50c0e7742a3eb3800f3c2fdd5bce8f3a\":\"Admins & moderators\",\"1_531aa532255f18fbb4386d4ac4bf537d\":\"Search emoji\",\"1_53e9c4c2a53662ab23979d6cd79d4417\":\"Stop sharing\",\"1_5490d986c6908e35ac70ae79cca740fc\":\"Switch account\",\"1_55c0717e522433cf319a51f6ed6d4d09\":\"No messages\",\"1_55c2f7ac43fba60f684a0a0dfd01bb89\":\"Edit avatar\",\"1_55e31911698e89d3b19d4c703079cdf2\":\"{content} Learn more\",\"1_56d2098fc23416108de3ceae0fd6c158\":\"See link\",\"1_599d20d959e0009397c73fb9edb426dd\":\"Private post\",\"1_5af9abe8c5f4d9bcce27117d09ca6932\":\"Start call\",\"1_5e86ca443695bbd6605bcd169ee35a74\":\"Group updates\",\"1_5f0a4852946206863aa44a9ec3f87708\":\"Send to group\",\"1_60a7a58934bd27cbaf2058b53ff745f6\":\"Leave game\",\"1_60eb52f4ce4a109523fbfa8e90244331\":\"Live location\",\"1_617aeb029449c78895903ece88034b31\":\"Show picture-in-picture\",\"1_61cb9f934ffb6b5f8cc4cb95757125d4\":\"Invalid time\",\"1_6315107c7594ac961c8dac9aabbb957a\":\"Add to her picture\",\"1_64b1b9a14a334d3cce48f22f2b03e7c2\":\"Not now\",\"1_6544e705bd98780c45018863ca564aa1\":\"Block messages\",\"1_6582285731ad9288ac97889beeca82f3\":\"Avatar settings\",\"1_66402d631b18879269b46a49f95a0a4e\":\"Noise suppression\",\"1_6689492f38a51b5cb39982dd8a0e7f00\":\"Account details\",\"1_678bfb1d36a580695ccbb699c8fd1bd2\":\"Logging in\\\\u2026\",\"1_6795cc13b37b3be61a143c35c9c65382\":\"Recently shared\",\"1_6a9a0529abd169ff91b49b4022dbf5a5\":\"Buy and sell groups\",\"1_6b124b9a53cd1299ad43ceef50dcd0e2\":\"Unread chats\",\"1_6d2f04c835bd2e9e555649e2f121fd5f\":\"Introducing AI stickers\",\"1_6dc5cc58c44e3791e14cdb69816e8a3f\":\"Product catalog terms\",\"1_6ec9c14f5b6103937c24960c6ae37947\":\"SMS messages\",\"1_7008293f762c6b49632496bd6aad21ff\":\"Suggested chats\",\"1_70190249ea4fa344ffbe77fd48af796f\":\"Pause chat?\",\"1_701d063f9d93574540e7a4aa27d2f86d\":\"Message reactions\",\"1_7052e2f38bec805609d7986562d34ed0\":\"Your reactions\",\"1_72920428a45b969c9dad788a656c323c\":\"Skip to details and actions\",\"1_7341e8b3089e0af586ed3b9682c2b5cf\":\"View call\",\"1_73761caf2fde503928bfdbd48c983136\":\"See conversation?\",\"1_7808c5327cf430807c173fa11ac0cc26\":\"Learn more\",\"1_7930f1b92ced21f16265c1ab07265964\":\"Chats you can join\",\"1_7bf132b7beb84dbc96f9cc6a1caef3a3\":\"Last name\",\"1_7c5789ad7c9455a96fa0b8d3edaf1dd0\":\"View profile\",\"1_7e3e738782f1887fbcebca5e62902a72\":\"See group\",\"1_7f626e74849fb5ad4a61825532fb6054\":\"Confirm your identity\",\"1_801af62106d995c8b376a512e2146039\":\"Block messages\",\"1_806d0518a4e1e599c196185438e2b79c\":\"Change image\",\"1_83a0754dbad2db42dcbe0e8900e6b48a\":\"AI-assisted message\",\"1_84698e2e6128e955605ddff2615c2771\":\"In transit\",\"1_88b60e4824d116c36468b700b6287e2f\":\"Your location\",\"1_8a1749bf031ab122983b76b370a86be3\":\"Learn more\",\"1_8bc33223ef4caf9b437b812c2772d946\":\"Create poll\",\"1_8c84ed97d7d84a31c72b1c75300a9461\":\"Delete chat?\",\"1_8dea727922641bc0de681cb214274b2f\":\"View AR object\",\"1_8e82c5b24398a0887342f439b66ce8c3\":\"{user}\\'s location\",\"1_8ea29d4da797ad3ae8fa2b3626b2a50c\":\"Disabled chat\",\"1_8ef9ffb962319c095470bb46de00beaa\":\"Current location\",\"1_9025bb6bcf560d6de6cfd22af6eaec97\":\"All chats menu\",\"1_9050fb0878cf1e782d24779cf780114c\":\"Recent calls\",\"1_91d783db2fb886ee4801ae5e0a86e04c\":\"Channel admin\",\"1_92255cd3d8f183d6dcb03b606a3445c2\":\"Recent searches\",\"1_925dfeb7269a4b97e5035aede422151c\":\"Upload contacts\",\"1_92b1a4d18dca5da9ac47d17733885fc2\":\"How to add friends on Messenger Kids\",\"1_93183c880d14f092e5d9617d9a246a74\":\"Read receipts\",\"1_939fba302a75b306e132ccb37e09a148\":\"Ignore group\",\"1_944401d1748eeaa9a66e62241477695e\":\"View details\",\"1_948415d2b551fa7c8b50376738732e5b\":\"Community members\",\"1_9626d7ac31beaf24bbd48f4842bf4744\":\"{num_activities} activities\",\"1_9645bee1f9dba4ee355d68df18cb1102\":\"Contact card\",\"1_96cc0d1d8acdfbcc9fe4623a53183f99\":\"No more posts\",\"1_983e4f9e7f9ecfdb8a2d0aa8247942de\":\"More conversations\",\"1_99dd31ad1b3145dfb03b7b4b097f28d5\":\"Send current location\",\"1_9ed1ff8f2501b81918e505f6e17fd362\":\"Send separately\",\"1_a1195adc52046789d21a0ae117244224\":\"Creating poll\",\"1_a12b852de26a50e5b6986edc7fa2705e\":\"Account created\",\"1_a2ed1fddb5b17414f3b7941385713361\":\"Suggested people\",\"1_a3d27f40032c3217f0934bcd46d52392\":\"Learn more\",\"1_a3f05430c2d2c4a7949a503649a0941d\":\"4 things to know about your information\",\"1_a4694c6ccbc990026015c70c944fe25e\":\"Cover photo\",\"1_a64a04c8ea9a8cf38124918e78c71b60\":\"You\\'ve blocked this account.\",\"1_a7a430455b6aaba0be1cf776314c8e70\":\"Learn more\",\"1_a7e141af65d2cd2dc972d3c094d2ce4f\":\"Charge your Bluetooth keys regularly.\",\"1_a8fd7153d9fbad9cece5913d6268813c\":\"Voice and video calling\",\"1_a96a641ba1f4b43910fab6d1b55c9b17\":\"Not now\",\"1_a9c08e1b18c1bceb358a7bf4a1aee0aa\":\"View profile\",\"1_ab80b68f0048ce8515584d069d120405\":\"Submit a report\",\"1_abd30739736c002c9a49c782066cbe86\":\"Save changes\",\"1_add682c72addd3a0d8b6fcab3720aadc\":\"Turn on\",\"1_aeb4b99dd7b73001a4f730b4a9120e04\":\"Try again\",\"1_aec2472fe4a2eaccb817d6111a4c0d39\":\"Video call\",\"1_af9c98d11efedfee4f1301601a67874a\":\"Double knock\",\"1_afc0eae78aa06ac4e92bf98ac3a03177\":\"Ignore group\",\"1_b0308bd1c93ff21594fabd353bda0a2a\":\"Red\\\\/green\",\"1_b14ffeb649c54cac70fe09d9f7780889\":\"Open sticker, emoji and GIF keyboard.\",\"1_b22b6c4a8dd3ff71f35d007751cd87b0\":\"Get the Messenger app\",\"1_b2cea7ff1ee86133589fc73e5f2f3f9d\":\"You can turn this off at any time in your Parent Dashboard.\",\"1_b32cee1f96ea285d99c5ca73d4eb725f\":\"Date of birth\",\"1_b3dd269103f0d9b89d9bdb677dbd8887\":\"Invalid link\",\"1_b3ecf06a63fd5147cac3c083201ac7eb\":\"Data saver\",\"1_b42224e77c208d4ee532f212f5fe7a47\":\"Learn more\",\"1_b449f7098ace13c92ffc9bb9d5a5bb6f\":\"Live description (optional)\",\"1_b45945f81d03ceaf6f9441f2eeeec891\":\"Contact us\",\"1_b4c7d1e15b39ef2c3956027bb4d6cd11\":\"Placed on {date} \\\\u00b7 Canceled\",\"1_b6392edec7f022a20e9867eb0b24de7b\":\"Featured Facebook photos\",\"1_b6f50b519cec90102cc5b62361a81288\":\"Mute notifications\",\"1_b81d470fc8105e7a7896e7cffb0ceeed\":\"Add contact\",\"1_b9143060878dce3a509e6bc2548b82f2\":\"Search for adults\",\"1_b997548b5fdd3a2dee73c3392135d911\":\"{number} invited by you\",\"1_ba4838bc3349d125cfb867715cada2f9\":\"Update build\",\"1_bbc5d4c00b66cc87bd1e6f8ab51fc102\":\"Call with video\",\"1_bbd9c674819da6d44ca09fa575180083\":\"Videos to send\",\"1_bc1a68f2efbc9ac36f13fe05f5d65e51\":\"Unmute notifications\",\"1_bc5ed53c58ed1544e3e014e9d7dee341\":\"Creating community\",\"1_bf841bb55b37d0620ef1b2bea096b95f\":\"You waved at {$recipient}.\",\"1_bfbf4cbd94a30fe78e2c6243fbaedb73\":\"No internet connection\",\"1_bfef0efc933e18bc735d53351af694e0\":\"Photos to send\",\"1_c174849dd6b0df72ce6c611bda774209\":\"Add option\",\"1_c21bf170fea995d887a6b64c13639323\":\"Double pop\",\"1_c6f4d12c2c30c1986800afdd50f373cd\":\"Preview chat\",\"1_c794c37e69d7f325e9a433f02ba8790b\":\"Message requests\",\"1_c8077b6c0597db47a0485bc0f32e9980\":\"Your avatar\",\"1_c921177d0d05ed9c9b95487f15422056\":\"Delete channel\",\"1_c94482ebd9b72b746183c50a4d4208d6\":\"Send a like\",\"1_cb73b265ac209451363883bed772c9bb\":\"Play together\",\"1_cc78ccf039dccf8d1dea818b85eab80d\":\"More people\",\"1_cd6b327676433f7b3c3515f206c0b82a\":\"{phone_number} \\\\u2022 Phone contact\",\"1_cdc01fc97f5a6cf6ba07c7bcc4fe11e1\":\"Add question\",\"1_cde9138094eb836637af973172431d53\":\"{name1} wants to add {lastPendingKifTargetName} as a friend\",\"1_ce3d72055f43aaf90d886ab0017ca08c\":\"Recent articles\",\"1_cef77356ede0b83cf0465641b0719a42\":\"Problem with Bluetooth or audio source\",\"1_d29c32cd116f7833d1f496f064788d8c\":\"Report someone in this chat\",\"1_d3e1e228c31890a4aba20db8d31fd323\":\"Notification control\",\"1_d7bbd024b73557f1cf0914a38113498d\":\"Block messages\",\"1_d8de8ea2ef707a7aace4a752b147d8f1\":\"Mark as read\",\"1_d9f5379b09800045f33f218dc5408f64\":\"Welcome message\",\"1_dbd60e7eb18c870f9603d90f44f244ab\":\"Group chats\",\"1_dc6a01243c06b93a27cbe6c6d6c795f3\":\"Camera roll\",\"1_dcabb4806e92c408bd735494ddd92a6c\":\"Draw a necklace\",\"1_dee291c2ba2b66491a65be6138906278\":\"Hidden group\",\"1_df45795d00cab7a89a5557f9a392a7b2\":\"You opened this chat from {Origin Domain}\",\"1_df57e221cb0b224e5a0090f7dcef6677\":\"Forward limit reached\",\"1_df848a5c2d023027ac455f8321243645\":\"Report buyer\",\"1_e11f9f6dcd24ac5786c0eb8ff1851e1b\":\"Update information?\",\"1_e12cc3ec2ab93b6916804e5e1f6a336f\":\"Add to story\",\"1_e146ca287d980280ff6dabc5d32b2713\":\"Leave conversation?\",\"1_e250ac43039a943db6bd1855c02f6c39\":\"Learn more\",\"1_e27604669dde9743f8c4a735e650e5a6\":\"Thanks for being a superstar in this chat!\",\"1_e57e0918dc3eb089646890b6bb915dc0\":\"Choose kids for {name1}, {name2} and {name count} others to chat with\",\"1_e7861583dd9505c6c9a5dd36aca38d3b\":\"Unblock messages\",\"1_e809c2825e3b050976f7ca22f1532032\":\"Faster messaging\",\"1_e8d7d977b19c2aa1894496a663c986dc\":\"Blue\\\\/yellow\",\"1_ea8ff502404e09cf262e602989d843d8\":\"Go to recent chats\",\"1_eceb9aa9398269f52436f1a1a7ee41b4\":\"Send to group\",\"1_ee9abb17ff7ad017ae988a02f8f5beae\":\"Top friends\",\"1_eec0e983014426e06f0c4077e7333275\":\"Unblock messages?\",\"1_ef4b4300b7a1f0319566068f5568c938\":\"Updating poll\",\"1_f165e0191456b0373edec046de3290d5\":\"Active now\",\"1_f2010c43a90ee7c3b7d6d3cab66ef06e\":\"Social networking\",\"1_f33ba2aba991e0820ccfef1ac81c4c14\":\"Recommended communities\",\"1_f580546da084946da3d6f61e3cc636da\":\"Channel settings\",\"1_f5d924ee511bdbc00c3dd05a10fe8260\":\"Please update your app\",\"1_f816fc32554f392be8655ee6db8f7dd5\":\"Continue with PayPal\",\"1_f90fb65f92ad8ac33f140b8be3c9eed1\":\"Invalid file format\",\"1_f919ada00521135434fd084a87e64542\":\"Add photos\",\"1_fa663c0ee32eeae58fd133765c35f905\":\"Learn more\",\"1_fba7ed548a73364cce9a2ad6e168b798\":\"Audio call\",\"1_fd3afb0fabe31263a19dac9f61fb0d4f\":\"Look up info\",\"1_fd7ada49a7f6f2ab82454ec27b9c6725\":\"Couldn\\'t remove message\",\"1_fdf2eec743eaf4ee4b25a683f71525c6\":\"Add a profile picture\",\"1_fe84ad51b794fd555ef027662cbb6f2e\":\"Event creation\",\"1_ff1c542ee2c5bb59ee27ade5e7e52cb4\":\"Resume chats\",\"1_ff6b115a8a131f9f1b4b8c9c80ec38d4\":\"For families\"}},551],[\"WebConnectionClassServerGuess\",[],{\"connectionClass\":\"EXCELLENT\"},4705],[\"SiteData\",[],{\"server_revision\":1016512104,\"client_revision\":1016511625,\"push_phase\":\"C3\",\"pkg_cohort\":\"BP:DEFAULT\",\"haste_session\":\"19982.BP:DEFAULT.2.0..0.0\",\"pr\":1,\"manifest_base_uri\":\"https:\\\\/\\\\/static.xx.fbcdn.net\",\"manifest_origin\":null,\"manifest_version_prefix\":null,\"be_one_ahead\":false,\"is_rtl\":false,\"is_experimental_tier\":false,\"is_jit_warmed_up\":true,\"hsi\":\"7415056696125025487\",\"semr_host_bucket\":\"3\",\"bl_hash_version\":2,\"comet_env\":0,\"wbloks_env\":false,\"ef_page\":null,\"compose_bootloads\":false,\"spin\":4,\"__spin_r\":1016511625,\"__spin_b\":\"trunk\",\"__spin_t\":1726452423,\"vip\":\"31.13.88.35\"},317],[\"AnalyticsCoreData\",[],{\"device_id\":\"$^|AcZ79pMptnLX3idZ3O_svOWzrVznXGRyHQsqJOchK0FM_Jk58d9WfSQHTVrCfStr3evuiu-ffY95g8bCI9wSBAkgHAsg|fd.AcbOQBPLl5SowGkGDO8Xnh33FbA4k0k8JJSYf0VGjBcnbiR72bnp-xk-k3FRxdtr_eNkJLw2KjULNtJ1puFH1Viu\",\"app_id\":\"256281040558\",\"enable_bladerunner\":false,\"enable_ack\":true,\"push_phase\":\"C3\",\"enable_observer\":false,\"enable_cmcd_observer\":false,\"enable_dataloss_timer\":false,\"enable_fallback_for_br\":true,\"queue_activation_experiment\":false,\"max_delay_br_queue\":60000,\"max_delay_br_queue_immediate\":3,\"max_delay_br_init_not_complete\":3000,\"consents\":{},\"app_universe\":1,\"br_stateful_migration_on\":true,\"enable_non_fb_br_stateless_by_default\":false,\"use_falco_as_mutex_key\":false,\"is_intern\":false},5237],[\"CookieConsentIFrameConfig\",[],{\"consent_param\":\"FQAREhISFQAZ9XkCJC6oAkBGSEpMTlBSWFxeYGJkamx0eHqCAYQBhgGIAZQBnAGeAaABpAGqAbgBzgHeAeAB4gHqAewB7gHwAfQB\\\\/gGAAoYClgKaAqACBAYKDA4QEhYYGhweICImKCosMDI2ODo8QkRmbnB2fI4BkAGSAZYBmAGaAaIBqAGsAa4BsAGyAbQBugG+AcABwgHGAcgBygHMAdAB1AHYAeQB6AH4AfoB\\\\/AGKAowCjgKQApgCogJUVnKAAYoBjAEYEHd3dy5mYWNlYm9vay5jb20A.ARYrHI5gayd_1IURKenCHqBGC2vKOeOxAhCD0T3FyuqTGvtK\",\"allowlisted_iframes\":[\"captcha-recaptcha\",\"arkose-captcha\"],\"is_checkpointed\":false},5540]],\"require\":[[\"markJSEnabled\"],[\"lowerDomain\"],[\"URLFragmentPrelude\"],[\"Primer\"],[\"BigPipe\"],[\"Bootloader\"],[\"TimeSlice\"],[\"AsyncRequest\"],[\"ODS\"],[\"FbtLogging\"],[\"IntlQtEventFalcoEvent\"],[\"RequireDeferredReference\",\"unblock\",[],[[\"AsyncRequest\",\"ODS\",\"FbtLogging\",\"IntlQtEventFalcoEvent\"],\"sd\"]],[\"RequireDeferredReference\",\"unblock\",[],[[\"AsyncRequest\",\"ODS\",\"FbtLogging\",\"IntlQtEventFalcoEvent\"],\"css\"]]]});});', 'requireLazy([\"bootstrapWebSession\"],function(j){j(1726452423)})', 'Facebook', 'Email or phone', 'Password']\n",
            "\n",
            "Links (first 10):\n",
            "[('Facebook', 'https://www.facebook.com/'), ('Forgot account?', 'https://www.facebook.com/recover/initiate?lwv=110&ars=royal_blue_bar'), ('Sign Up', '/r.php?locale=en_US'), ('Return home', '/'), ('Español', 'https://es-la.facebook.com/login/?next=https%3A%2F%2Fwww.facebook.com%2FAI%2F'), ('Français (France)', 'https://fr-fr.facebook.com/login/?next=https%3A%2F%2Fwww.facebook.com%2FAI%2F'), ('中文(简体)', 'https://zh-cn.facebook.com/login/?next=https%3A%2F%2Fwww.facebook.com%2FAI%2F'), ('العربية', 'https://ar-ar.facebook.com/login/?next=https%3A%2F%2Fwww.facebook.com%2FAI%2F'), ('Português (Brasil)', 'https://pt-br.facebook.com/login/?next=https%3A%2F%2Fwww.facebook.com%2FAI%2F'), ('Italiano', 'https://it-it.facebook.com/login/?next=https%3A%2F%2Fwww.facebook.com%2FAI%2F')]\n"
          ]
        },
        {
          "output_type": "stream",
          "name": "stderr",
          "text": [
            "<ipython-input-33-23cd7402a84a>:47: DeprecationWarning: The 'text' argument to find()-type methods is deprecated. Use 'string' instead.\n",
            "  texts = soup.find_all(text=True)\n"
          ]
        }
      ],
      "source": []
    },
    {
      "cell_type": "markdown",
      "metadata": {
        "id": "55W9AMdXCSpV"
      },
      "source": [
        "## Question 4B (10 Points)\n",
        "If you encounter challenges with Question-4 web scraping using Python, employ any online tools such as ParseHub or Octoparse for data extraction. Introduce the selected tool, outline the steps for web scraping, and showcase the final output in formats like CSV or Excel.\n",
        "\n",
        "\n",
        "\n",
        "Upload a document (Word or PDF File) in any shared storage (preferably UNT OneDrive) and add the publicly accessible link in the below code cell.\n",
        "\n",
        "Please only choose one option for question 4. If you do both options, we will grade only the first one"
      ]
    },
    {
      "cell_type": "code",
      "execution_count": null,
      "metadata": {
        "id": "I57NXsauCec2"
      },
      "outputs": [],
      "source": [
        "# write your answer here\n",
        "# https://docs.google.com/spreadsheets/d/1zsZWcvRRkJni3OYxGbOrfyZEzy6Q04MK/edit?usp=sharing&ouid=108515101479457813988&rtpof=true&sd=true"
      ]
    },
    {
      "cell_type": "markdown",
      "source": [
        "# Mandatory Question"
      ],
      "metadata": {
        "id": "sZOhks1dXWEe"
      }
    },
    {
      "cell_type": "markdown",
      "source": [
        "**Important: Reflective Feedback on Web Scraping and Data Collection**\n",
        "\n",
        "\n",
        "\n",
        "Please share your thoughts and feedback on the web scraping and data collection exercises you have completed in this assignment. Consider the following points in your response:\n",
        "\n",
        "\n",
        "\n",
        "Learning Experience: Describe your overall learning experience in working on web scraping tasks. What were the key concepts or techniques you found most beneficial in understanding the process of extracting data from various online sources?\n",
        "\n",
        "\n",
        "\n",
        "Challenges Encountered: Were there specific difficulties in collecting data from certain websites, and how did you overcome them? If you opted for the non-coding option, share your experience with the chosen tool.\n",
        "\n",
        "\n",
        "\n",
        "Relevance to Your Field of Study: How might the ability to gather and analyze data from online sources enhance your work or research?\n",
        "\n",
        "**(no grading of your submission if this question is left unanswered)**"
      ],
      "metadata": {
        "id": "eqmHVEwaWhbV"
      }
    },
    {
      "cell_type": "code",
      "source": [
        "'''\n",
        "Write your response here.\n",
        "Working on web scraping and data collection was a valuable learning experience. I gained hands-on knowledge of extracting data from various\n",
        "websites, understanding HTML structures, and dealing with dynamic content using tools like Selenium and Octoparse. I faced challenges such as\n",
        "handling blocked requests and navigating complex site structures, but these were overcome by mimicking real user behavior and using user-friendly\n",
        "tools. This skill set is highly relevant to research and work, as it allows for efficient data collection from online sources, insightful analysis\n",
        "of trends and patterns, and automation of repetitive tasks. Overall, the experience enhanced my technical skills and provided practical insights\n",
        "into data extraction and analysis.\n",
        "'''"
      ],
      "metadata": {
        "id": "akAVJn9YBTQT"
      },
      "execution_count": null,
      "outputs": []
    }
  ],
  "metadata": {
    "colab": {
      "provenance": [],
      "include_colab_link": true
    },
    "kernelspec": {
      "display_name": "Python 3 (ipykernel)",
      "language": "python",
      "name": "python3"
    },
    "language_info": {
      "codemirror_mode": {
        "name": "ipython",
        "version": 3
      },
      "file_extension": ".py",
      "mimetype": "text/x-python",
      "name": "python",
      "nbconvert_exporter": "python",
      "pygments_lexer": "ipython3",
      "version": "3.9.12"
    }
  },
  "nbformat": 4,
  "nbformat_minor": 0
}